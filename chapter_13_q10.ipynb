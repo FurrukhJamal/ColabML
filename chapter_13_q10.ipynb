{
  "nbformat": 4,
  "nbformat_minor": 0,
  "metadata": {
    "colab": {
      "provenance": [],
      "authorship_tag": "ABX9TyO5SgKakq+nxCvX3HrlYLhZ",
      "include_colab_link": true
    },
    "kernelspec": {
      "name": "python3",
      "display_name": "Python 3"
    },
    "language_info": {
      "name": "python"
    }
  },
  "cells": [
    {
      "cell_type": "markdown",
      "metadata": {
        "id": "view-in-github",
        "colab_type": "text"
      },
      "source": [
        "<a href=\"https://colab.research.google.com/github/FurrukhJamal/ColabML/blob/main/chapter_13_q10.ipynb\" target=\"_parent\"><img src=\"https://colab.research.google.com/assets/colab-badge.svg\" alt=\"Open In Colab\"/></a>"
      ]
    },
    {
      "cell_type": "code",
      "execution_count": null,
      "metadata": {
        "id": "0l5c_hIzI2Y7"
      },
      "outputs": [],
      "source": [
        "import sys\n",
        "assert sys.version_info >= (3,7)\n",
        "\n",
        "import tensorflow as tf\n",
        "import numpy as np\n",
        "import matplotlib.pyplot as plt\n",
        "\n",
        "from packaging import version\n",
        "assert version.parse(tf.__version__) >= version.parse('2.8.0')"
      ]
    },
    {
      "cell_type": "code",
      "source": [
        "from pathlib import Path\n",
        "\n",
        "rootUrl = \"https://ai.stanford.edu/~amaas/data/sentiment/\"\n",
        "fileName = \"aclImdb_v1.tar.gz\"\n",
        "\n",
        "filePath = tf.keras.utils.get_file(fileName, rootUrl + fileName, extract=True, cache_dir='.')\n",
        "filePath = Path(filePath)"
      ],
      "metadata": {
        "colab": {
          "base_uri": "https://localhost:8080/"
        },
        "id": "2ug57oPKKsSe",
        "outputId": "c07fbd58-7c0d-4a6e-ca49-e861a57f75c5"
      },
      "execution_count": null,
      "outputs": [
        {
          "output_type": "stream",
          "name": "stdout",
          "text": [
            "Downloading data from https://ai.stanford.edu/~amaas/data/sentiment/aclImdb_v1.tar.gz\n",
            "\u001b[1m84125825/84125825\u001b[0m \u001b[32m━━━━━━━━━━━━━━━━━━━━\u001b[0m\u001b[37m\u001b[0m \u001b[1m2s\u001b[0m 0us/step\n"
          ]
        }
      ]
    },
    {
      "cell_type": "code",
      "source": [
        "filePath.name"
      ],
      "metadata": {
        "colab": {
          "base_uri": "https://localhost:8080/",
          "height": 36
        },
        "id": "yRn8uz-yeG8A",
        "outputId": "8262124e-83f7-4a92-f7fc-b8b32d939ad5"
      },
      "execution_count": null,
      "outputs": [
        {
          "output_type": "execute_result",
          "data": {
            "text/plain": [
              "'aclImdb_v1_extracted'"
            ],
            "application/vnd.google.colaboratory.intrinsic+json": {
              "type": "string"
            }
          },
          "metadata": {},
          "execution_count": 4
        }
      ]
    },
    {
      "cell_type": "code",
      "source": [
        "filePath = Path(filePath) / \"aclImdb\""
      ],
      "metadata": {
        "id": "LfMKMom3fDx5"
      },
      "execution_count": null,
      "outputs": []
    },
    {
      "cell_type": "code",
      "source": [
        "filePath"
      ],
      "metadata": {
        "colab": {
          "base_uri": "https://localhost:8080/"
        },
        "id": "-6aKC-Afgbi0",
        "outputId": "0adcc39c-8680-4fd3-89ee-3a3615c23540"
      },
      "execution_count": null,
      "outputs": [
        {
          "output_type": "execute_result",
          "data": {
            "text/plain": [
              "PosixPath('datasets/aclImdb_v1_extracted/aclImdb')"
            ]
          },
          "metadata": {},
          "execution_count": 6
        }
      ]
    },
    {
      "cell_type": "code",
      "source": [
        "print(filePath)"
      ],
      "metadata": {
        "colab": {
          "base_uri": "https://localhost:8080/"
        },
        "id": "9kPGya1gg1Al",
        "outputId": "16f2f1b7-6ab9-4a8e-c653-0004b669a8db"
      },
      "execution_count": null,
      "outputs": [
        {
          "output_type": "stream",
          "name": "stdout",
          "text": [
            "datasets/aclImdb_v1_extracted/aclImdb\n"
          ]
        }
      ]
    },
    {
      "cell_type": "code",
      "source": [
        "def tree(path, level = 0, indent = 4, max_files = 3):\n",
        "  if level == 0:\n",
        "    print(f\"{path}/\")\n",
        "    level += 1\n",
        "  sub_paths = sorted(path.iterdir())\n",
        "  sub_dirs = [path for path in sub_paths if path.is_dir()]\n",
        "  filePaths = [path for path in sub_paths if not path in sub_dirs]\n",
        "  indent_str = \" \" * indent * level\n",
        "  for sub_dir in sub_dirs:\n",
        "    print(f\"{indent_str}{sub_dir.name}/\")\n",
        "    tree(sub_dir, level +1)\n",
        "  for filePath in filePaths[:max_files]:\n",
        "    print(f\"{indent_str}{filePath.name}\")\n",
        "  if len(filePaths) > max_files:\n",
        "    print(f\"{indent_str}...\")\n",
        "\n",
        "\n",
        "  # print(f\"len(filePaths) : {len(filePaths)}\")\n"
      ],
      "metadata": {
        "id": "nhQvfD4-hNjb"
      },
      "execution_count": null,
      "outputs": []
    },
    {
      "cell_type": "code",
      "source": [
        "tree(filePath)"
      ],
      "metadata": {
        "colab": {
          "base_uri": "https://localhost:8080/"
        },
        "id": "rrS3MTEphiMK",
        "outputId": "27c8c2d2-26fc-4120-ce04-0dd1162ef152"
      },
      "execution_count": null,
      "outputs": [
        {
          "output_type": "stream",
          "name": "stdout",
          "text": [
            "datasets/aclImdb_v1_extracted/aclImdb/\n",
            "    test/\n",
            "        neg/\n",
            "            0_2.txt\n",
            "            10000_4.txt\n",
            "            10001_1.txt\n",
            "            ...\n",
            "        pos/\n",
            "            0_10.txt\n",
            "            10000_7.txt\n",
            "            10001_9.txt\n",
            "            ...\n",
            "        labeledBow.feat\n",
            "        urls_neg.txt\n",
            "        urls_pos.txt\n",
            "    train/\n",
            "        neg/\n",
            "            0_3.txt\n",
            "            10000_4.txt\n",
            "            10001_4.txt\n",
            "            ...\n",
            "        pos/\n",
            "            0_9.txt\n",
            "            10000_8.txt\n",
            "            10001_10.txt\n",
            "            ...\n",
            "        unsup/\n",
            "            0_0.txt\n",
            "            10000_0.txt\n",
            "            10001_0.txt\n",
            "            ...\n",
            "        labeledBow.feat\n",
            "        unsupBow.feat\n",
            "        urls_neg.txt\n",
            "        ...\n",
            "    README\n",
            "    imdb.vocab\n",
            "    imdbEr.txt\n"
          ]
        }
      ]
    },
    {
      "cell_type": "code",
      "source": [
        "def reviewPaths(paths):\n",
        "  return [str(path) for path in paths.glob(\"*.txt\")]\n",
        "\n",
        "trainPositive = reviewPaths(filePath / \"train\" / \"pos\")\n",
        "trainNegative = reviewPaths(filePath / \"train\" / \"neg\")\n",
        "testPositive = reviewPaths(filePath / \"test\" / \"pos\")\n",
        "testNegative = reviewPaths(filePath / \"test\" / \"neg\")\n",
        "\n",
        "len(trainPositive), len(trainNegative), len(testPositive), len(testNegative)"
      ],
      "metadata": {
        "colab": {
          "base_uri": "https://localhost:8080/"
        },
        "id": "8apLHcYedjKu",
        "outputId": "9117750e-19d4-4bd2-8fc1-444c07040278"
      },
      "execution_count": null,
      "outputs": [
        {
          "output_type": "execute_result",
          "data": {
            "text/plain": [
              "(12500, 12500, 12500, 12500)"
            ]
          },
          "metadata": {},
          "execution_count": 11
        }
      ]
    },
    {
      "cell_type": "code",
      "source": [
        "trainPositive[:5]"
      ],
      "metadata": {
        "colab": {
          "base_uri": "https://localhost:8080/"
        },
        "id": "yv88dEdheT-D",
        "outputId": "ffe55f3c-f134-4545-9cc4-6eb2b73ed5a3"
      },
      "execution_count": null,
      "outputs": [
        {
          "output_type": "execute_result",
          "data": {
            "text/plain": [
              "['datasets/aclImdb_v1_extracted/aclImdb/train/pos/10642_8.txt',\n",
              " 'datasets/aclImdb_v1_extracted/aclImdb/train/pos/2177_8.txt',\n",
              " 'datasets/aclImdb_v1_extracted/aclImdb/train/pos/11353_9.txt',\n",
              " 'datasets/aclImdb_v1_extracted/aclImdb/train/pos/1162_9.txt',\n",
              " 'datasets/aclImdb_v1_extracted/aclImdb/train/pos/4181_9.txt']"
            ]
          },
          "metadata": {},
          "execution_count": 12
        }
      ]
    },
    {
      "cell_type": "code",
      "source": [
        "np.random.shuffle(testPositive)\n",
        "np.random.shuffle(testNegative)\n",
        "test_pos = testPositive[7500:]\n",
        "test_neg = testNegative[7500:]\n",
        "val_pos = testPositive[:7500]\n",
        "val_neg = testNegative[:7500]\n",
        "\n",
        "print(f\"validation size : {len(val_pos) + len(val_neg)}\")\n",
        "print(f\"test size : {len(test_pos) + len(test_neg)}\")"
      ],
      "metadata": {
        "colab": {
          "base_uri": "https://localhost:8080/"
        },
        "id": "cjocHIj4fTHI",
        "outputId": "e83a1477-1c05-44e9-e4f2-331fe89c1b02"
      },
      "execution_count": null,
      "outputs": [
        {
          "output_type": "stream",
          "name": "stdout",
          "text": [
            "validation size : 15000\n",
            "test size : 10000\n"
          ]
        }
      ]
    },
    {
      "cell_type": "code",
      "source": [
        "def imdb_datasets(filePathsPositive, filePathsNegative):\n",
        "  reviews = []\n",
        "  labels = []\n",
        "  for filePaths, label in ((filePathsPositive, 1), (filePathsNegative, 0)):\n",
        "    for filePath in filePaths:\n",
        "      with open(filePath) as f:\n",
        "        reviews.append(f.read())\n",
        "      labels.append(label)\n",
        "  return tf.data.Dataset.from_tensor_slices((tf.constant(reviews), tf.constant(labels)))"
      ],
      "metadata": {
        "id": "3-ugBtSujQZY"
      },
      "execution_count": null,
      "outputs": []
    },
    {
      "cell_type": "code",
      "source": [
        "for X, y in imdb_datasets(trainPositive, trainNegative).take(3):\n",
        "  print(X)\n",
        "  print(y)\n",
        "  print()"
      ],
      "metadata": {
        "colab": {
          "base_uri": "https://localhost:8080/"
        },
        "id": "K663dbgplc9V",
        "outputId": "b942ee2b-0be5-4074-867a-4c8792fdae61"
      },
      "execution_count": null,
      "outputs": [
        {
          "output_type": "stream",
          "name": "stdout",
          "text": [
            "tf.Tensor(b\"I just viewed Detention last night and i liked what i saw. It was a cool fun movie.Dolph looked superbly cool on the Bike.He also looked good in this movie as compared to his other recent movies.He is now in a pretty good shape.The story was ok and the other actors were also passable.I wouldn't call this movie his best but its still a good movie.<br /><br />But it also had its share of Problems. The first one was the way bullets were flying everywhere and even when they were being fired at point blank range they missed the target.They should've had shown the ppl escaping the bullets in a better way. Another problem which i had was the way the students were swearing. I dont know in which school the students can swear in front of their teacher and even in the classroom. The third problem was that the bad guys were very few in numbers. There should've been more bad guys. Last problem was definately the fact that the set looked cheesy , but that was due to the small budget. Overall the movie was a good Movie.I enjoyed it.I would recommend others to watch it. P.S. Now u r a DEAD beat cop. (Some One-liners were also cool)<br /><br />\", shape=(), dtype=string)\n",
            "tf.Tensor(1, shape=(), dtype=int32)\n",
            "\n",
            "tf.Tensor(b'We saw the silent version of this film, and it is quite simply shimmeringly beautiful. It\\'s quite hard to see how a sound version could have been created, since it is shot with pure silent technique, long wordless sweeps of narrative without a single intertitle -- save for a few disconcerting sequences where Louise Brooks, playing a French typist, is quite visibly speaking in English... The only section that obviously cries out for sound is the final scene, where Brooks is watching the rushes for her test \\'for a sound film\\': footage which plays constantly in the background as the action unfolds, with her mouth moving in ceaseless soundless song. I was unsurprised to learn afterwards that this passage alone in the talkie version had been hailed as an exemplar of new technique! <br /><br />In the sunny beauty of its opening scenes and the fairy-tale inevitability of what follows, the film resembles a dream. As a \\'Louise Brooks movie\\' it was not at all what I was expecting, either from her Hollywood comedies or from G.W.Pabst\\'s German melodramas: I found the idiom more fluent and enjoyable than either, and Brooks herself is a different creature, a sturdy laughing young animal rather than a shop-window vamp or manipulated doll.<br /><br />But what gives this film greater depth than at first appears is the unexpected second half; repelled by the rich parasites who cluster around her beauty, the pauper princess returns to a tear-stained reunion with her humbly-born true love... and the tale might very well have been ended there. Fairy-tale, however, turns to tragedy. The dilettante Grabovsky, confident in his ability to manipulate the woman he desires, is yet all too correct in his self-interested prediction -- the young lovers cannot make each other happy -- and Andr\\xc3\\xa9, ironically, was right to mistrust the social influence of beauty contests: after the intoxication of her moment\\'s glory, Lucienne frets herself to despair over the humdrum routine of married life while her husband, in turn, is driven wild by any reminder of the whole affair. If it were a simple case of a mis-matched marriage, that would be one thing... but the true tragedy is that they do love each other.<br /><br />In many ways \"Prix de Beaut\\xc3\\xa9\" reminds me of Murnau\\'s \"Sunrise\". But if so, the fairground and photographer scenes here would form a distorted mirror-image of the joyous reconciliation in \"Sunrise\"; no dream but an alienating nightmare. And the following dawn brings not a miraculous reunion but an empty bed and deserted home. Leaving a letter to say that she loves him and will always love him, Lucienne vanishes again from Andr\\xc3\\xa9\\'s life in quest of brightness and freedom; and this time she will never come back.<br /><br />Gossip columns confirm all Andr\\xc3\\xa9\\'s worst convictions, as he learns of his wife\\'s whereabouts through reports coupling her name with Grabovsky. When the young workman penetrates at last to the lavish sanctum of the screening-room, it is with drawn gun -- to be greeted by the sight of his rival courting and caressing a laughing Lucienne, the same woman who had pledged her undying affection as she left him. He kills her, but even as he kills is transfixed by the living image on screen, Lucienne in all her transformed glory as he never saw her. The two women are juxtaposed in an endless, powerful moment, as Andr\\xc3\\xa9 is seen, seized, unresisting, and pulled away: the dying girl and her singing self still projected above, caught unknowing out of time into celluloid eternity, playing on unconscious of life or death or love beneath her...<br /><br />The main jarring element in the film is the character of Andr\\xc3\\xa9\\'s co-worker Antonin, who appears to serve no role throughout other than to be the licensed butt of his contemporaries\\' malice. He is the ugly one who can never get the girl, the ungainly wimp who is tripped and tormented in the washrooms and at work, and must take it all with an uncertain ingratiating smile in his fruitless hope for social acceptance: a typical product of the bullying of the more gifted and popular, in other words, but one the audience is apparently being invited to laugh at along with his tormentors. Unless the intention is to expose a darker side to the protagonists (for which I perceive no sign), the character seems to exist merely as comic relief, but comic relief with a distinctly nasty edge. When we know him only as an inept Peeping Tom at the waterside, it\\'s easy to laugh, although the others\\' revenge seems a little over the top; when we discover that he is no chance-met stranger but Andr\\xc3\\xa9\\'s colleague and regular sidekick, the continuing attacks rapidly cease to be very funny.<br /><br />But it is the images that remain. Beauty, nightmare, and dream.', shape=(), dtype=string)\n",
            "tf.Tensor(1, shape=(), dtype=int32)\n",
            "\n",
            "tf.Tensor(b'This movie was excellent. It details the struggle between a committed detective against the dedicated ignorance of the corrupted communist regime in Russia during the 80\\'s. I give this movie high marks for it\\'s no-holds-barred look into the birth and development of forensic investigation in a globally isolated (thanks to the \"Regime\") community. This is a graphic movie. It presents an unsensationalized picture of violence and it\\'s tragic remains. Nothing is \"candy-coated\" with overdone blood or gore to separate us from the cruel reality on the screen. This movie is based on Russian serial killer Andrei Chikatilo. I\\'m familiar enough with the true story to have a very deep appreciation for how real they kept the film. It\\'s not a comedy, but for those who appreciate dry and dark humor, this movie is a must-see.', shape=(), dtype=string)\n",
            "tf.Tensor(1, shape=(), dtype=int32)\n",
            "\n"
          ]
        }
      ]
    },
    {
      "cell_type": "markdown",
      "source": [
        "timing how much time it takes to go through the dataset 10 times"
      ],
      "metadata": {
        "id": "UJ8-9HHcnqA2"
      }
    },
    {
      "cell_type": "code",
      "source": [
        "%timeit -r1 for X, y in imdb_datasets(trainPositive, trainNegative).repeat(10): pass"
      ],
      "metadata": {
        "colab": {
          "base_uri": "https://localhost:8080/"
        },
        "id": "IoVjq5ElnxzN",
        "outputId": "3ef15773-55d3-4f24-823a-a773116066c9"
      },
      "execution_count": null,
      "outputs": [
        {
          "output_type": "stream",
          "name": "stdout",
          "text": [
            "1min 15s ± 0 ns per loop (mean ± std. dev. of 1 run, 1 loop each)\n"
          ]
        }
      ]
    },
    {
      "cell_type": "markdown",
      "source": [
        "creating a dataset"
      ],
      "metadata": {
        "id": "h_zdekpJrt1y"
      }
    },
    {
      "cell_type": "code",
      "source": [
        "def imdb_dataset2(filepathsPositive, filePathsNegative, n_thread = 5):\n",
        "  dataset_pos = tf.data.TextLineDataset(filepathsPositive, num_parallel_reads=n_thread)\n",
        "  dataset_pos = dataset_pos.map(lambda x : (x, 1))\n",
        "  dataset_neg = tf.data.TextLineDataset(filePathsNegative, num_parallel_reads=n_thread)\n",
        "  dataset_neg = dataset_neg.map(lambda x : (x, 0))\n",
        "  return tf.data.Dataset.concatenate(dataset_pos, dataset_neg)"
      ],
      "metadata": {
        "id": "UVnl3sSirtIB"
      },
      "execution_count": null,
      "outputs": []
    },
    {
      "cell_type": "code",
      "source": [
        "%timeit -r1 for X, y in imdb_dataset2(trainPositive, trainNegative).repeat(10): pass"
      ],
      "metadata": {
        "colab": {
          "base_uri": "https://localhost:8080/"
        },
        "id": "GVsJiZmWtIwf",
        "outputId": "ed4c0ceb-ddf4-48bf-c8c3-f005dbac3c20"
      },
      "execution_count": null,
      "outputs": [
        {
          "output_type": "stream",
          "name": "stdout",
          "text": [
            "1min 49s ± 0 ns per loop (mean ± std. dev. of 1 run, 1 loop each)\n"
          ]
        }
      ]
    },
    {
      "cell_type": "code",
      "source": [
        "%timeit -r1 for X, y in imdb_dataset2(trainPositive, trainNegative).cache().repeat(10): pass"
      ],
      "metadata": {
        "colab": {
          "base_uri": "https://localhost:8080/"
        },
        "id": "rCw9lg4nvJSr",
        "outputId": "dee82a87-f783-4b21-c794-ba5023e58263"
      },
      "execution_count": null,
      "outputs": [
        {
          "output_type": "stream",
          "name": "stdout",
          "text": [
            "1min 29s ± 0 ns per loop (mean ± std. dev. of 1 run, 1 loop each)\n"
          ]
        }
      ]
    },
    {
      "cell_type": "code",
      "source": [
        "batchSize = 32\n",
        "train_dataset = imdb_dataset2(trainPositive, trainNegative)\n",
        "train_dataset = train_dataset.shuffle(25000, seed = 42).batch(batchSize).prefetch(1)\n",
        "\n",
        "valid_dataset = imdb_dataset2(val_pos, val_neg).batch(batchSize).prefetch(1)\n",
        "test_dataset = imdb_dataset2(test_pos, test_neg).batch(batchSize).prefetch(1)"
      ],
      "metadata": {
        "id": "RhSjmqjgvbUZ"
      },
      "execution_count": null,
      "outputs": []
    },
    {
      "cell_type": "code",
      "source": [
        "text_vec_layer = tf.keras.layers.TextVectorization(output_mode = \"tf_idf\")\n",
        "text_vec_layer.adapt(train_dataset.map(lambda x, y : x))"
      ],
      "metadata": {
        "id": "ZqIwnoL0y6pu"
      },
      "execution_count": null,
      "outputs": []
    },
    {
      "cell_type": "code",
      "source": [
        "text_vec_layer.get_vocabulary()[:10]"
      ],
      "metadata": {
        "colab": {
          "base_uri": "https://localhost:8080/"
        },
        "id": "TQ9goPZI9NTv",
        "outputId": "56eb33fd-69f9-4028-dee4-06a3b7edb36b"
      },
      "execution_count": null,
      "outputs": [
        {
          "output_type": "execute_result",
          "data": {
            "text/plain": [
              "['[UNK]',\n",
              " np.str_('the'),\n",
              " np.str_('and'),\n",
              " np.str_('a'),\n",
              " np.str_('of'),\n",
              " np.str_('to'),\n",
              " np.str_('is'),\n",
              " np.str_('in'),\n",
              " np.str_('it'),\n",
              " np.str_('i')]"
            ]
          },
          "metadata": {},
          "execution_count": 36
        }
      ]
    },
    {
      "cell_type": "code",
      "source": [
        "tf.random.set_seed(42)\n",
        "model = tf.keras.Sequential([\n",
        "    text_vec_layer,\n",
        "    tf.keras.layers.Dense(100, activation = \"relu\"),\n",
        "    tf.keras.layers.Dense(1, activation = \"sigmoid\")\n",
        "])\n",
        "\n",
        "model.compile(loss = \"binary_crossentropy\", optimizer = \"nadam\", metrics = [\"accuracy\"])\n",
        "\n",
        "model.fit(train_dataset, epochs = 10, validation_data = valid_dataset)"
      ],
      "metadata": {
        "colab": {
          "base_uri": "https://localhost:8080/"
        },
        "id": "pRqXX4y4BOsl",
        "outputId": "c60b0e9d-b9d2-4c56-92fb-3d2ccabc23fa"
      },
      "execution_count": null,
      "outputs": [
        {
          "output_type": "stream",
          "name": "stdout",
          "text": [
            "Epoch 1/10\n",
            "\u001b[1m782/782\u001b[0m \u001b[32m━━━━━━━━━━━━━━━━━━━━\u001b[0m\u001b[37m\u001b[0m \u001b[1m246s\u001b[0m 310ms/step - accuracy: 0.8413 - loss: 0.3835 - val_accuracy: 0.8714 - val_loss: 0.3442\n",
            "Epoch 2/10\n",
            "\u001b[1m782/782\u001b[0m \u001b[32m━━━━━━━━━━━━━━━━━━━━\u001b[0m\u001b[37m\u001b[0m \u001b[1m262s\u001b[0m 310ms/step - accuracy: 0.9809 - loss: 0.0557 - val_accuracy: 0.8547 - val_loss: 0.5088\n",
            "Epoch 3/10\n",
            "\u001b[1m782/782\u001b[0m \u001b[32m━━━━━━━━━━━━━━━━━━━━\u001b[0m\u001b[37m\u001b[0m \u001b[1m243s\u001b[0m 309ms/step - accuracy: 0.9978 - loss: 0.0093 - val_accuracy: 0.8528 - val_loss: 0.6873\n",
            "Epoch 4/10\n",
            "\u001b[1m782/782\u001b[0m \u001b[32m━━━━━━━━━━━━━━━━━━━━\u001b[0m\u001b[37m\u001b[0m \u001b[1m228s\u001b[0m 289ms/step - accuracy: 0.9997 - loss: 0.0032 - val_accuracy: 0.8527 - val_loss: 0.8040\n",
            "Epoch 5/10\n",
            "\u001b[1m782/782\u001b[0m \u001b[32m━━━━━━━━━━━━━━━━━━━━\u001b[0m\u001b[37m\u001b[0m \u001b[1m268s\u001b[0m 296ms/step - accuracy: 1.0000 - loss: 5.6279e-04 - val_accuracy: 0.8523 - val_loss: 0.8925\n",
            "Epoch 6/10\n",
            "\u001b[1m782/782\u001b[0m \u001b[32m━━━━━━━━━━━━━━━━━━━━\u001b[0m\u001b[37m\u001b[0m \u001b[1m252s\u001b[0m 284ms/step - accuracy: 1.0000 - loss: 2.4564e-04 - val_accuracy: 0.8515 - val_loss: 0.9577\n",
            "Epoch 7/10\n",
            "\u001b[1m782/782\u001b[0m \u001b[32m━━━━━━━━━━━━━━━━━━━━\u001b[0m\u001b[37m\u001b[0m \u001b[1m223s\u001b[0m 283ms/step - accuracy: 0.9999 - loss: 1.9912e-04 - val_accuracy: 0.8516 - val_loss: 1.0095\n",
            "Epoch 8/10\n",
            "\u001b[1m782/782\u001b[0m \u001b[32m━━━━━━━━━━━━━━━━━━━━\u001b[0m\u001b[37m\u001b[0m \u001b[1m263s\u001b[0m 285ms/step - accuracy: 0.9998 - loss: 1.8577e-04 - val_accuracy: 0.8515 - val_loss: 1.0585\n",
            "Epoch 9/10\n",
            "\u001b[1m782/782\u001b[0m \u001b[32m━━━━━━━━━━━━━━━━━━━━\u001b[0m\u001b[37m\u001b[0m \u001b[1m262s\u001b[0m 286ms/step - accuracy: 1.0000 - loss: 4.3362e-05 - val_accuracy: 0.8520 - val_loss: 1.1044\n",
            "Epoch 10/10\n",
            "\u001b[1m782/782\u001b[0m \u001b[32m━━━━━━━━━━━━━━━━━━━━\u001b[0m\u001b[37m\u001b[0m \u001b[1m227s\u001b[0m 288ms/step - accuracy: 1.0000 - loss: 6.2706e-05 - val_accuracy: 0.8511 - val_loss: 1.1479\n"
          ]
        },
        {
          "output_type": "execute_result",
          "data": {
            "text/plain": [
              "<keras.src.callbacks.history.History at 0x79cab712a150>"
            ]
          },
          "metadata": {},
          "execution_count": 39
        }
      ]
    }
  ]
}